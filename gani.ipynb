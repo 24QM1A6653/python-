{
  "nbformat": 4,
  "nbformat_minor": 0,
  "metadata": {
    "colab": {
      "provenance": []
    },
    "kernelspec": {
      "name": "python3",
      "display_name": "Python 3"
    },
    "language_info": {
      "name": "python"
    }
  },
  "cells": [
    {
      "cell_type": "code",
      "execution_count": null,
      "metadata": {
        "colab": {
          "base_uri": "https://localhost:8080/"
        },
        "id": "nRwMk8fJZr2_",
        "outputId": "d10a3372-ee56-4ba0-8a85-f51e7edb93bf"
      },
      "outputs": [
        {
          "output_type": "stream",
          "name": "stdout",
          "text": [
            "hello world\n"
          ]
        }
      ],
      "source": [
        "print(\"hello world\")"
      ]
    },
    {
      "cell_type": "code",
      "source": [
        "print (hello world)"
      ],
      "metadata": {
        "colab": {
          "base_uri": "https://localhost:8080/",
          "height": 106
        },
        "id": "imwULi5ebNX9",
        "outputId": "46c6b9be-b72a-4a1e-ca9b-9b4f6d9b8208"
      },
      "execution_count": null,
      "outputs": [
        {
          "output_type": "error",
          "ename": "SyntaxError",
          "evalue": "invalid syntax. Perhaps you forgot a comma? (<ipython-input-2-894a7da163fa>, line 1)",
          "traceback": [
            "\u001b[0;36m  File \u001b[0;32m\"<ipython-input-2-894a7da163fa>\"\u001b[0;36m, line \u001b[0;32m1\u001b[0m\n\u001b[0;31m    print (hello world)\u001b[0m\n\u001b[0m           ^\u001b[0m\n\u001b[0;31mSyntaxError\u001b[0m\u001b[0;31m:\u001b[0m invalid syntax. Perhaps you forgot a comma?\n"
          ]
        }
      ]
    },
    {
      "cell_type": "code",
      "source": [
        "print('hello world')"
      ],
      "metadata": {
        "colab": {
          "base_uri": "https://localhost:8080/"
        },
        "id": "1BC7-IArbacS",
        "outputId": "6a901a12-e385-49a7-a72a-bb59f4bbb843"
      },
      "execution_count": null,
      "outputs": [
        {
          "output_type": "stream",
          "name": "stdout",
          "text": [
            "hello world\n"
          ]
        }
      ]
    },
    {
      "cell_type": "code",
      "source": [
        "print(1)"
      ],
      "metadata": {
        "colab": {
          "base_uri": "https://localhost:8080/"
        },
        "id": "wtLyNDL1dsfN",
        "outputId": "d27f8afa-64a9-499c-d822-0e960c0a17f5"
      },
      "execution_count": null,
      "outputs": [
        {
          "output_type": "stream",
          "name": "stdout",
          "text": [
            "1\n"
          ]
        }
      ]
    },
    {
      "cell_type": "code",
      "source": [
        "print(\"hello world\")\n",
        "print('ganesh')"
      ],
      "metadata": {
        "colab": {
          "base_uri": "https://localhost:8080/"
        },
        "id": "NL4_nCj4eBxi",
        "outputId": "4e4820b8-dce3-43d5-d13f-c42c0c983702"
      },
      "execution_count": null,
      "outputs": [
        {
          "output_type": "stream",
          "name": "stdout",
          "text": [
            "hello world\n",
            "ganesh\n"
          ]
        }
      ]
    },
    {
      "cell_type": "code",
      "source": [
        "print(2*2)"
      ],
      "metadata": {
        "colab": {
          "base_uri": "https://localhost:8080/"
        },
        "id": "X3wLU45ieT5S",
        "outputId": "bcb67e22-6662-41d5-de61-fccc592c65c8"
      },
      "execution_count": null,
      "outputs": [
        {
          "output_type": "stream",
          "name": "stdout",
          "text": [
            "4\n"
          ]
        }
      ]
    },
    {
      "cell_type": "code",
      "source": [
        "print(23423423423432432)"
      ],
      "metadata": {
        "colab": {
          "base_uri": "https://localhost:8080/"
        },
        "id": "exJqyNe4fHMo",
        "outputId": "9e116542-3a0c-4ec4-a520-d2072baf4172"
      },
      "execution_count": null,
      "outputs": [
        {
          "output_type": "stream",
          "name": "stdout",
          "text": [
            "23423423423432432\n"
          ]
        }
      ]
    },
    {
      "cell_type": "code",
      "source": [
        "name=input(\"enter your roll number:\")\n",
        "print()"
      ],
      "metadata": {
        "colab": {
          "base_uri": "https://localhost:8080/"
        },
        "id": "9gT-Y_S1m4Dw",
        "outputId": "df029f53-dad0-4184-dd19-82a7722fa188"
      },
      "execution_count": null,
      "outputs": [
        {
          "output_type": "stream",
          "name": "stdout",
          "text": [
            "enter your roll number:24QM1A6653\n",
            "\n"
          ]
        }
      ]
    },
    {
      "cell_type": "code",
      "source": [
        "_name=\"int\"\n",
        "print(name)"
      ],
      "metadata": {
        "colab": {
          "base_uri": "https://localhost:8080/"
        },
        "id": "5vXf0fEfnZYO",
        "outputId": "78f79971-e347-4ad0-ff7a-6af9801da062"
      },
      "execution_count": null,
      "outputs": [
        {
          "output_type": "stream",
          "name": "stdout",
          "text": [
            "24QM1A6653\n"
          ]
        }
      ]
    },
    {
      "cell_type": "code",
      "source": [
        "x=10\n",
        "print(x)"
      ],
      "metadata": {
        "colab": {
          "base_uri": "https://localhost:8080/"
        },
        "id": "5JsbDV-gsYtX",
        "outputId": "d8c5dd54-5276-4df3-edf9-bf74eccfa6c0"
      },
      "execution_count": null,
      "outputs": [
        {
          "output_type": "stream",
          "name": "stdout",
          "text": [
            "10\n"
          ]
        }
      ]
    },
    {
      "cell_type": "code",
      "source": [],
      "metadata": {
        "id": "dlnuaypQ8c-p"
      },
      "execution_count": null,
      "outputs": []
    },
    {
      "cell_type": "markdown",
      "source": [
        "# age program\n"
      ],
      "metadata": {
        "id": "dTWFw-i-8r4W"
      }
    },
    {
      "cell_type": "code",
      "source": [
        "age=15\n",
        "print(\"i am\"+str(age)+\"years old\")"
      ],
      "metadata": {
        "colab": {
          "base_uri": "https://localhost:8080/"
        },
        "id": "q4R_-i7h8wY1",
        "outputId": "72bab9d6-d65d-4325-e5e9-c3c0f76796a6"
      },
      "execution_count": null,
      "outputs": [
        {
          "output_type": "stream",
          "name": "stdout",
          "text": [
            "i am15years old\n"
          ]
        }
      ]
    },
    {
      "cell_type": "code",
      "source": [
        "x=5\n",
        "y=\"KGRCET\"\n",
        "print(x)\n",
        "print(y)"
      ],
      "metadata": {
        "colab": {
          "base_uri": "https://localhost:8080/"
        },
        "id": "-EN9RlJ29BUc",
        "outputId": "c02a2771-fade-48b0-f91c-d6ecb56ef38f"
      },
      "execution_count": null,
      "outputs": [
        {
          "output_type": "stream",
          "name": "stdout",
          "text": [
            "5\n",
            "KGRCET\n"
          ]
        }
      ]
    },
    {
      "cell_type": "code",
      "source": [
        "x=\"python\"\n",
        "Y=\"is\"\n",
        "z=\"awesome\"\n",
        "print(x,y,z)"
      ],
      "metadata": {
        "colab": {
          "base_uri": "https://localhost:8080/"
        },
        "id": "uDKal0fY92Ra",
        "outputId": "28b8c536-f73c-44b7-a6ed-4c8f380f16b7"
      },
      "execution_count": null,
      "outputs": [
        {
          "output_type": "stream",
          "name": "stdout",
          "text": [
            "python KGRCET awesome\n"
          ]
        }
      ]
    },
    {
      "cell_type": "code",
      "source": [
        "x=\"python \"\n",
        "y=\"is \"\n",
        "z=\"awesome\"\n",
        "print(x+y+z)"
      ],
      "metadata": {
        "colab": {
          "base_uri": "https://localhost:8080/"
        },
        "id": "0BahVPKm-KSx",
        "outputId": "d7d44945-982e-4903-d833-61082aa52f58"
      },
      "execution_count": null,
      "outputs": [
        {
          "output_type": "stream",
          "name": "stdout",
          "text": [
            "python is awesome\n"
          ]
        }
      ]
    },
    {
      "cell_type": "code",
      "source": [
        "x=500\n",
        "y=\"KGR\"\n",
        "print(x,y)"
      ],
      "metadata": {
        "colab": {
          "base_uri": "https://localhost:8080/"
        },
        "id": "MSUW5tk8-tzI",
        "outputId": "a44e6754-abe4-4b6a-94dd-998d9190fff0"
      },
      "execution_count": null,
      "outputs": [
        {
          "output_type": "stream",
          "name": "stdout",
          "text": [
            "500 KGR\n"
          ]
        }
      ]
    },
    {
      "cell_type": "code",
      "source": [
        "\n",
        "print(\"ganesh \"* 2006)"
      ],
      "metadata": {
        "colab": {
          "base_uri": "https://localhost:8080/"
        },
        "id": "_vcwKJLILGPy",
        "outputId": "9edd3bf2-b542-4cf1-f5d9-aef2bdeed49c"
      },
      "execution_count": null,
      "outputs": [
        {
          "output_type": "stream",
          "name": "stdout",
          "text": [
            "ganesh ganesh ganesh ganesh ganesh ganesh ganesh ganesh ganesh ganesh ganesh ganesh ganesh ganesh ganesh ganesh ganesh ganesh ganesh ganesh ganesh ganesh ganesh ganesh ganesh ganesh ganesh ganesh ganesh ganesh ganesh ganesh ganesh ganesh ganesh ganesh ganesh ganesh ganesh ganesh ganesh ganesh ganesh ganesh ganesh ganesh ganesh ganesh ganesh ganesh ganesh ganesh ganesh ganesh ganesh ganesh ganesh ganesh ganesh ganesh ganesh ganesh ganesh ganesh ganesh ganesh ganesh ganesh ganesh ganesh ganesh ganesh ganesh ganesh ganesh ganesh ganesh ganesh ganesh ganesh ganesh ganesh ganesh ganesh ganesh ganesh ganesh ganesh ganesh ganesh ganesh ganesh ganesh ganesh ganesh ganesh ganesh ganesh ganesh ganesh ganesh ganesh ganesh ganesh ganesh ganesh ganesh ganesh ganesh ganesh ganesh ganesh ganesh ganesh ganesh ganesh ganesh ganesh ganesh ganesh ganesh ganesh ganesh ganesh ganesh ganesh ganesh ganesh ganesh ganesh ganesh ganesh ganesh ganesh ganesh ganesh ganesh ganesh ganesh ganesh ganesh ganesh ganesh ganesh ganesh ganesh ganesh ganesh ganesh ganesh ganesh ganesh ganesh ganesh ganesh ganesh ganesh ganesh ganesh ganesh ganesh ganesh ganesh ganesh ganesh ganesh ganesh ganesh ganesh ganesh ganesh ganesh ganesh ganesh ganesh ganesh ganesh ganesh ganesh ganesh ganesh ganesh ganesh ganesh ganesh ganesh ganesh ganesh ganesh ganesh ganesh ganesh ganesh ganesh ganesh ganesh ganesh ganesh ganesh ganesh ganesh ganesh ganesh ganesh ganesh ganesh ganesh ganesh ganesh ganesh ganesh ganesh ganesh ganesh ganesh ganesh ganesh ganesh ganesh ganesh ganesh ganesh ganesh ganesh ganesh ganesh ganesh ganesh ganesh ganesh ganesh ganesh ganesh ganesh ganesh ganesh ganesh ganesh ganesh ganesh ganesh ganesh ganesh ganesh ganesh ganesh ganesh ganesh ganesh ganesh ganesh ganesh ganesh ganesh ganesh ganesh ganesh ganesh ganesh ganesh ganesh ganesh ganesh ganesh ganesh ganesh ganesh ganesh ganesh ganesh ganesh ganesh ganesh ganesh ganesh ganesh ganesh ganesh ganesh ganesh ganesh ganesh ganesh ganesh ganesh ganesh ganesh ganesh ganesh ganesh ganesh ganesh ganesh ganesh ganesh ganesh ganesh ganesh ganesh ganesh ganesh ganesh ganesh ganesh ganesh ganesh ganesh ganesh ganesh ganesh ganesh ganesh ganesh ganesh ganesh ganesh ganesh ganesh ganesh ganesh ganesh ganesh ganesh ganesh ganesh ganesh ganesh ganesh ganesh ganesh ganesh ganesh ganesh ganesh ganesh ganesh ganesh ganesh ganesh ganesh ganesh ganesh ganesh ganesh ganesh ganesh ganesh ganesh ganesh ganesh ganesh ganesh ganesh ganesh ganesh ganesh ganesh ganesh ganesh ganesh ganesh ganesh ganesh ganesh ganesh ganesh ganesh ganesh ganesh ganesh ganesh ganesh ganesh ganesh ganesh ganesh ganesh ganesh ganesh ganesh ganesh ganesh ganesh ganesh ganesh ganesh ganesh ganesh ganesh ganesh ganesh ganesh ganesh ganesh ganesh ganesh ganesh ganesh ganesh ganesh ganesh ganesh ganesh ganesh ganesh ganesh ganesh ganesh ganesh ganesh ganesh ganesh ganesh ganesh ganesh ganesh ganesh ganesh ganesh ganesh ganesh ganesh ganesh ganesh ganesh ganesh ganesh ganesh ganesh ganesh ganesh ganesh ganesh ganesh ganesh ganesh ganesh ganesh ganesh ganesh ganesh ganesh ganesh ganesh ganesh ganesh ganesh ganesh ganesh ganesh ganesh ganesh ganesh ganesh ganesh ganesh ganesh ganesh ganesh ganesh ganesh ganesh ganesh ganesh ganesh ganesh ganesh ganesh ganesh ganesh ganesh ganesh ganesh ganesh ganesh ganesh ganesh ganesh ganesh ganesh ganesh ganesh ganesh ganesh ganesh ganesh ganesh ganesh ganesh ganesh ganesh ganesh ganesh ganesh ganesh ganesh ganesh ganesh ganesh ganesh ganesh ganesh ganesh ganesh ganesh ganesh ganesh ganesh ganesh ganesh ganesh ganesh ganesh ganesh ganesh ganesh ganesh ganesh ganesh ganesh ganesh ganesh ganesh ganesh ganesh ganesh ganesh ganesh ganesh ganesh ganesh ganesh ganesh ganesh ganesh ganesh ganesh ganesh ganesh ganesh ganesh ganesh ganesh ganesh ganesh ganesh ganesh ganesh ganesh ganesh ganesh ganesh ganesh ganesh ganesh ganesh ganesh ganesh ganesh ganesh ganesh ganesh ganesh ganesh ganesh ganesh ganesh ganesh ganesh ganesh ganesh ganesh ganesh ganesh ganesh ganesh ganesh ganesh ganesh ganesh ganesh ganesh ganesh ganesh ganesh ganesh ganesh ganesh ganesh ganesh ganesh ganesh ganesh ganesh ganesh ganesh ganesh ganesh ganesh ganesh ganesh ganesh ganesh ganesh ganesh ganesh ganesh ganesh ganesh ganesh ganesh ganesh ganesh ganesh ganesh ganesh ganesh ganesh ganesh ganesh ganesh ganesh ganesh ganesh ganesh ganesh ganesh ganesh ganesh ganesh ganesh ganesh ganesh ganesh ganesh ganesh ganesh ganesh ganesh ganesh ganesh ganesh ganesh ganesh ganesh ganesh ganesh ganesh ganesh ganesh ganesh ganesh ganesh ganesh ganesh ganesh ganesh ganesh ganesh ganesh ganesh ganesh ganesh ganesh ganesh ganesh ganesh ganesh ganesh ganesh ganesh ganesh ganesh ganesh ganesh ganesh ganesh ganesh ganesh ganesh ganesh ganesh ganesh ganesh ganesh ganesh ganesh ganesh ganesh ganesh ganesh ganesh ganesh ganesh ganesh ganesh ganesh ganesh ganesh ganesh ganesh ganesh ganesh ganesh ganesh ganesh ganesh ganesh ganesh ganesh ganesh ganesh ganesh ganesh ganesh ganesh ganesh ganesh ganesh ganesh ganesh ganesh ganesh ganesh ganesh ganesh ganesh ganesh ganesh ganesh ganesh ganesh ganesh ganesh ganesh ganesh ganesh ganesh ganesh ganesh ganesh ganesh ganesh ganesh ganesh ganesh ganesh ganesh ganesh ganesh ganesh ganesh ganesh ganesh ganesh ganesh ganesh ganesh ganesh ganesh ganesh ganesh ganesh ganesh ganesh ganesh ganesh ganesh ganesh ganesh ganesh ganesh ganesh ganesh ganesh ganesh ganesh ganesh ganesh ganesh ganesh ganesh ganesh ganesh ganesh ganesh ganesh ganesh ganesh ganesh ganesh ganesh ganesh ganesh ganesh ganesh ganesh ganesh ganesh ganesh ganesh ganesh ganesh ganesh ganesh ganesh ganesh ganesh ganesh ganesh ganesh ganesh ganesh ganesh ganesh ganesh ganesh ganesh ganesh ganesh ganesh ganesh ganesh ganesh ganesh ganesh ganesh ganesh ganesh ganesh ganesh ganesh ganesh ganesh ganesh ganesh ganesh ganesh ganesh ganesh ganesh ganesh ganesh ganesh ganesh ganesh ganesh ganesh ganesh ganesh ganesh ganesh ganesh ganesh ganesh ganesh ganesh ganesh ganesh ganesh ganesh ganesh ganesh ganesh ganesh ganesh ganesh ganesh ganesh ganesh ganesh ganesh ganesh ganesh ganesh ganesh ganesh ganesh ganesh ganesh ganesh ganesh ganesh ganesh ganesh ganesh ganesh ganesh ganesh ganesh ganesh ganesh ganesh ganesh ganesh ganesh ganesh ganesh ganesh ganesh ganesh ganesh ganesh ganesh ganesh ganesh ganesh ganesh ganesh ganesh ganesh ganesh ganesh ganesh ganesh ganesh ganesh ganesh ganesh ganesh ganesh ganesh ganesh ganesh ganesh ganesh ganesh ganesh ganesh ganesh ganesh ganesh ganesh ganesh ganesh ganesh ganesh ganesh ganesh ganesh ganesh ganesh ganesh ganesh ganesh ganesh ganesh ganesh ganesh ganesh ganesh ganesh ganesh ganesh ganesh ganesh ganesh ganesh ganesh ganesh ganesh ganesh ganesh ganesh ganesh ganesh ganesh ganesh ganesh ganesh ganesh ganesh ganesh ganesh ganesh ganesh ganesh ganesh ganesh ganesh ganesh ganesh ganesh ganesh ganesh ganesh ganesh ganesh ganesh ganesh ganesh ganesh ganesh ganesh ganesh ganesh ganesh ganesh ganesh ganesh ganesh ganesh ganesh ganesh ganesh ganesh ganesh ganesh ganesh ganesh ganesh ganesh ganesh ganesh ganesh ganesh ganesh ganesh ganesh ganesh ganesh ganesh ganesh ganesh ganesh ganesh ganesh ganesh ganesh ganesh ganesh ganesh ganesh ganesh ganesh ganesh ganesh ganesh ganesh ganesh ganesh ganesh ganesh ganesh ganesh ganesh ganesh ganesh ganesh ganesh ganesh ganesh ganesh ganesh ganesh ganesh ganesh ganesh ganesh ganesh ganesh ganesh ganesh ganesh ganesh ganesh ganesh ganesh ganesh ganesh ganesh ganesh ganesh ganesh ganesh ganesh ganesh ganesh ganesh ganesh ganesh ganesh ganesh ganesh ganesh ganesh ganesh ganesh ganesh ganesh ganesh ganesh ganesh ganesh ganesh ganesh ganesh ganesh ganesh ganesh ganesh ganesh ganesh ganesh ganesh ganesh ganesh ganesh ganesh ganesh ganesh ganesh ganesh ganesh ganesh ganesh ganesh ganesh ganesh ganesh ganesh ganesh ganesh ganesh ganesh ganesh ganesh ganesh ganesh ganesh ganesh ganesh ganesh ganesh ganesh ganesh ganesh ganesh ganesh ganesh ganesh ganesh ganesh ganesh ganesh ganesh ganesh ganesh ganesh ganesh ganesh ganesh ganesh ganesh ganesh ganesh ganesh ganesh ganesh ganesh ganesh ganesh ganesh ganesh ganesh ganesh ganesh ganesh ganesh ganesh ganesh ganesh ganesh ganesh ganesh ganesh ganesh ganesh ganesh ganesh ganesh ganesh ganesh ganesh ganesh ganesh ganesh ganesh ganesh ganesh ganesh ganesh ganesh ganesh ganesh ganesh ganesh ganesh ganesh ganesh ganesh ganesh ganesh ganesh ganesh ganesh ganesh ganesh ganesh ganesh ganesh ganesh ganesh ganesh ganesh ganesh ganesh ganesh ganesh ganesh ganesh ganesh ganesh ganesh ganesh ganesh ganesh ganesh ganesh ganesh ganesh ganesh ganesh ganesh ganesh ganesh ganesh ganesh ganesh ganesh ganesh ganesh ganesh ganesh ganesh ganesh ganesh ganesh ganesh ganesh ganesh ganesh ganesh ganesh ganesh ganesh ganesh ganesh ganesh ganesh ganesh ganesh ganesh ganesh ganesh ganesh ganesh ganesh ganesh ganesh ganesh ganesh ganesh ganesh ganesh ganesh ganesh ganesh ganesh ganesh ganesh ganesh ganesh ganesh ganesh ganesh ganesh ganesh ganesh ganesh ganesh ganesh ganesh ganesh ganesh ganesh ganesh ganesh ganesh ganesh ganesh ganesh ganesh ganesh ganesh ganesh ganesh ganesh ganesh ganesh ganesh ganesh ganesh ganesh ganesh ganesh ganesh ganesh ganesh ganesh ganesh ganesh ganesh ganesh ganesh ganesh ganesh ganesh ganesh ganesh ganesh ganesh ganesh ganesh ganesh ganesh ganesh ganesh ganesh ganesh ganesh ganesh ganesh ganesh ganesh ganesh ganesh ganesh ganesh ganesh ganesh ganesh ganesh ganesh ganesh ganesh ganesh ganesh ganesh ganesh ganesh ganesh ganesh ganesh ganesh ganesh ganesh ganesh ganesh ganesh ganesh ganesh ganesh ganesh ganesh ganesh ganesh ganesh ganesh ganesh ganesh ganesh ganesh ganesh ganesh ganesh ganesh ganesh ganesh ganesh ganesh ganesh ganesh ganesh ganesh ganesh ganesh ganesh ganesh ganesh ganesh ganesh ganesh ganesh ganesh ganesh ganesh ganesh ganesh ganesh ganesh ganesh ganesh ganesh ganesh ganesh ganesh ganesh ganesh ganesh ganesh ganesh ganesh ganesh ganesh ganesh ganesh ganesh ganesh ganesh ganesh ganesh ganesh ganesh ganesh ganesh ganesh ganesh ganesh ganesh ganesh ganesh ganesh ganesh ganesh ganesh ganesh ganesh ganesh ganesh ganesh ganesh ganesh ganesh ganesh ganesh ganesh ganesh ganesh ganesh ganesh ganesh ganesh ganesh ganesh ganesh ganesh ganesh ganesh ganesh ganesh ganesh ganesh ganesh ganesh ganesh ganesh ganesh ganesh ganesh ganesh ganesh ganesh ganesh ganesh ganesh ganesh ganesh ganesh ganesh ganesh ganesh ganesh ganesh ganesh ganesh ganesh ganesh ganesh ganesh ganesh ganesh ganesh ganesh ganesh ganesh ganesh ganesh ganesh ganesh ganesh ganesh ganesh ganesh ganesh ganesh ganesh ganesh ganesh ganesh ganesh ganesh ganesh ganesh ganesh ganesh ganesh ganesh ganesh ganesh ganesh ganesh ganesh ganesh ganesh ganesh ganesh ganesh ganesh ganesh ganesh ganesh ganesh ganesh ganesh ganesh ganesh ganesh ganesh ganesh ganesh ganesh ganesh ganesh ganesh ganesh ganesh ganesh ganesh ganesh ganesh ganesh ganesh ganesh ganesh ganesh ganesh ganesh ganesh ganesh ganesh ganesh ganesh ganesh ganesh ganesh ganesh ganesh ganesh ganesh ganesh ganesh ganesh ganesh ganesh ganesh ganesh ganesh ganesh ganesh ganesh ganesh ganesh ganesh ganesh ganesh ganesh ganesh ganesh ganesh ganesh ganesh ganesh ganesh ganesh ganesh ganesh ganesh ganesh ganesh ganesh ganesh ganesh ganesh ganesh ganesh ganesh ganesh ganesh ganesh ganesh ganesh ganesh ganesh ganesh ganesh ganesh ganesh ganesh ganesh ganesh ganesh ganesh ganesh ganesh ganesh ganesh ganesh ganesh ganesh ganesh ganesh ganesh ganesh ganesh ganesh ganesh ganesh ganesh ganesh ganesh ganesh ganesh ganesh ganesh ganesh ganesh ganesh ganesh ganesh ganesh ganesh ganesh ganesh ganesh ganesh ganesh ganesh ganesh ganesh ganesh ganesh ganesh ganesh ganesh ganesh ganesh ganesh ganesh ganesh ganesh ganesh ganesh ganesh ganesh ganesh ganesh ganesh ganesh ganesh ganesh ganesh ganesh ganesh ganesh ganesh ganesh ganesh ganesh ganesh ganesh ganesh ganesh ganesh ganesh ganesh ganesh ganesh ganesh ganesh ganesh ganesh ganesh ganesh ganesh ganesh ganesh ganesh ganesh ganesh ganesh ganesh ganesh ganesh ganesh ganesh ganesh ganesh ganesh ganesh ganesh ganesh ganesh ganesh ganesh ganesh ganesh ganesh ganesh ganesh ganesh ganesh ganesh ganesh ganesh ganesh ganesh ganesh ganesh ganesh ganesh ganesh ganesh ganesh ganesh ganesh ganesh ganesh ganesh ganesh ganesh ganesh ganesh ganesh ganesh ganesh ganesh ganesh ganesh ganesh ganesh ganesh ganesh ganesh ganesh ganesh ganesh ganesh ganesh ganesh ganesh ganesh ganesh ganesh ganesh ganesh ganesh ganesh ganesh ganesh ganesh ganesh ganesh ganesh ganesh ganesh ganesh ganesh ganesh ganesh ganesh ganesh ganesh ganesh ganesh ganesh ganesh ganesh ganesh ganesh ganesh ganesh ganesh ganesh ganesh ganesh ganesh ganesh ganesh ganesh ganesh ganesh ganesh ganesh ganesh ganesh ganesh ganesh ganesh ganesh ganesh ganesh ganesh ganesh ganesh ganesh ganesh ganesh ganesh ganesh ganesh ganesh ganesh ganesh ganesh ganesh ganesh ganesh ganesh ganesh ganesh ganesh ganesh ganesh ganesh ganesh ganesh ganesh ganesh ganesh ganesh ganesh ganesh ganesh ganesh ganesh ganesh ganesh ganesh ganesh ganesh ganesh ganesh ganesh ganesh ganesh ganesh ganesh ganesh ganesh ganesh ganesh ganesh ganesh ganesh ganesh ganesh ganesh ganesh ganesh ganesh ganesh ganesh ganesh ganesh ganesh ganesh ganesh ganesh ganesh ganesh ganesh ganesh ganesh ganesh ganesh ganesh ganesh ganesh ganesh ganesh ganesh ganesh ganesh ganesh ganesh ganesh ganesh ganesh ganesh ganesh ganesh ganesh ganesh ganesh ganesh ganesh ganesh ganesh ganesh ganesh ganesh ganesh ganesh ganesh ganesh ganesh ganesh ganesh ganesh ganesh ganesh ganesh ganesh ganesh ganesh ganesh ganesh ganesh ganesh ganesh ganesh ganesh ganesh ganesh ganesh ganesh ganesh ganesh ganesh ganesh ganesh ganesh ganesh ganesh ganesh ganesh ganesh ganesh ganesh ganesh ganesh ganesh ganesh ganesh ganesh ganesh ganesh ganesh ganesh ganesh ganesh ganesh ganesh ganesh ganesh ganesh ganesh ganesh ganesh ganesh ganesh ganesh ganesh ganesh ganesh ganesh ganesh ganesh ganesh ganesh ganesh ganesh ganesh ganesh ganesh \n"
          ]
        }
      ]
    },
    {
      "cell_type": "code",
      "source": [
        "x,y=2,3\n",
        "x"
      ],
      "metadata": {
        "colab": {
          "base_uri": "https://localhost:8080/"
        },
        "id": "PFjeeFDR-9qO",
        "outputId": "d090f8bf-a402-4db7-923a-3a2940eaaa09"
      },
      "execution_count": null,
      "outputs": [
        {
          "output_type": "execute_result",
          "data": {
            "text/plain": [
              "2"
            ]
          },
          "metadata": {},
          "execution_count": 40
        }
      ]
    },
    {
      "cell_type": "code",
      "source": [],
      "metadata": {
        "id": "B-TlddYR_SZ2"
      },
      "execution_count": null,
      "outputs": []
    },
    {
      "cell_type": "markdown",
      "source": [
        "swaping numbers"
      ],
      "metadata": {
        "id": "updvfyUF_sKW"
      }
    },
    {
      "cell_type": "code",
      "source": [
        "a=10\n",
        "b=20\n",
        "a,b=b,a\n",
        "print(b)"
      ],
      "metadata": {
        "colab": {
          "base_uri": "https://localhost:8080/"
        },
        "id": "p5K0PUH__zZD",
        "outputId": "1cd8bec6-cba3-4d87-e3e3-421cdd7d9965"
      },
      "execution_count": null,
      "outputs": [
        {
          "output_type": "stream",
          "name": "stdout",
          "text": [
            "10\n"
          ]
        }
      ]
    },
    {
      "cell_type": "code",
      "source": [
        "x,y,z=\"orange\",\"banana\",\"cherry\"\n",
        "print(x)\n",
        "print(y)\n",
        "print(z)"
      ],
      "metadata": {
        "colab": {
          "base_uri": "https://localhost:8080/"
        },
        "id": "WkywNKbDAcfR",
        "outputId": "d2553855-d30f-4274-d4e6-47ed5f837305"
      },
      "execution_count": null,
      "outputs": [
        {
          "output_type": "stream",
          "name": "stdout",
          "text": [
            "orange\n",
            "banana\n",
            "cherry\n"
          ]
        }
      ]
    },
    {
      "cell_type": "code",
      "source": [
        "a=5\n",
        "print(type(a))\n",
        "b=5.0\n",
        "print(type(b))\n",
        "c= 2+4j\n",
        "print(type(c))\n"
      ],
      "metadata": {
        "colab": {
          "base_uri": "https://localhost:8080/"
        },
        "id": "i700DBKrDAhb",
        "outputId": "534a2ed7-199e-4926-9980-30f76214ae68"
      },
      "execution_count": null,
      "outputs": [
        {
          "output_type": "stream",
          "name": "stdout",
          "text": [
            "<class 'int'>\n",
            "<class 'float'>\n",
            "<class 'complex'>\n"
          ]
        }
      ]
    },
    {
      "cell_type": "code",
      "source": [
        "s='weelcome to the python workshop'\n",
        "print(s)\n",
        "\n",
        "#check data type\n",
        "print(type(s))\n",
        "\n",
        "#access string with  index\n",
        "print(s[1])\n",
        "print(s[3])\n",
        "print(s[-1])"
      ],
      "metadata": {
        "colab": {
          "base_uri": "https://localhost:8080/"
        },
        "id": "X4FddYLfHK5P",
        "outputId": "9a430bb7-41ef-4f8a-beaf-4bdb89e8fa44"
      },
      "execution_count": null,
      "outputs": [
        {
          "output_type": "stream",
          "name": "stdout",
          "text": [
            "weelcome to the python workshop\n",
            "<class 'str'>\n",
            "e\n",
            "l\n",
            "p\n"
          ]
        }
      ]
    },
    {
      "cell_type": "code",
      "source": [
        "   string_one=\"i'm reading \"\n",
        "   string_two=\"a new grate book!\"\n",
        "   string_three=string_one+string_two"
      ],
      "metadata": {
        "id": "66qRIQFfING7"
      },
      "execution_count": null,
      "outputs": []
    },
    {
      "cell_type": "code",
      "source": [
        "#empty list\n",
        "a=[]\n",
        "\n",
        "#liost with int values\n",
        "a=[1,2,3]\n",
        "print(a)"
      ],
      "metadata": {
        "colab": {
          "base_uri": "https://localhost:8080/"
        },
        "id": "Ychyhk6vLm0x",
        "outputId": "0f29e140-7d37-4ff7-835e-21b828d82508"
      },
      "execution_count": null,
      "outputs": [
        {
          "output_type": "stream",
          "name": "stdout",
          "text": [
            "[1, 2, 3]\n"
          ]
        }
      ]
    },
    {
      "cell_type": "code",
      "source": [
        "ganesh_list=[5,7,3,6,4,2,1,8]\n",
        "ganesh_list.sort()\n",
        "ganesh_list"
      ],
      "metadata": {
        "colab": {
          "base_uri": "https://localhost:8080/"
        },
        "id": "czvm8vLmbb7X",
        "outputId": "66c83563-b8a0-4262-f925-e412f33055cb"
      },
      "execution_count": null,
      "outputs": [
        {
          "output_type": "execute_result",
          "data": {
            "text/plain": [
              "[1, 2, 3, 4, 5, 6, 7, 8]"
            ]
          },
          "metadata": {},
          "execution_count": 74
        }
      ]
    },
    {
      "cell_type": "code",
      "source": [
        "gani_list=[\"aplle\",\"banana\",\"orange\"]\n",
        "gani_list.append(\"grape\")\n",
        "print(gani_list)"
      ],
      "metadata": {
        "colab": {
          "base_uri": "https://localhost:8080/"
        },
        "id": "iWJy7wcFcGUG",
        "outputId": "208df1f2-0c0d-426d-c912-cdb3c441b230"
      },
      "execution_count": null,
      "outputs": [
        {
          "output_type": "stream",
          "name": "stdout",
          "text": [
            "['aplle', 'banana', 'orange', 'grape']\n"
          ]
        }
      ]
    },
    {
      "cell_type": "code",
      "source": [
        "ganesh_list=[\"21\",\"31\",\"41\"]\n",
        "ganesh_list.append(\"51\")\n",
        "print(ganesh_list)"
      ],
      "metadata": {
        "colab": {
          "base_uri": "https://localhost:8080/"
        },
        "id": "EAn-raCTdL-j",
        "outputId": "4c3aee12-79ca-4f84-916e-57e51ba2a0fd"
      },
      "execution_count": null,
      "outputs": [
        {
          "output_type": "stream",
          "name": "stdout",
          "text": [
            "['21', '31', '41', '51']\n"
          ]
        }
      ]
    },
    {
      "cell_type": "code",
      "source": [
        "beta_list=[\"ball\",\"bat\",\"b0x\"]\n",
        "beta_list.remove(\"ball\")\n",
        "print(beta_list)"
      ],
      "metadata": {
        "colab": {
          "base_uri": "https://localhost:8080/"
        },
        "id": "mpaimmX_fDR-",
        "outputId": "bdd1a04d-027e-413b-b5e3-a748176d47a2"
      },
      "execution_count": null,
      "outputs": [
        {
          "output_type": "stream",
          "name": "stdout",
          "text": [
            "['bat', 'b0x']\n"
          ]
        }
      ]
    },
    {
      "cell_type": "code",
      "source": [
        "#your code goes here\n",
        "weight=int(input());\n",
        "height=float(input());\n",
        "x=weight/float(height*height);\n",
        "if x < 18.5:\n",
        "    print(\"Underweight\");\n",
        "if x >= 18.5 and x < 25:\n",
        "    print(\"Normal\");\n",
        "if x >= 25 and x < 30:\n",
        "    print(\"Overweight\")"
      ],
      "metadata": {
        "id": "wYP4oiHkfoQH",
        "colab": {
          "base_uri": "https://localhost:8080/"
        },
        "outputId": "35720c0a-4d9c-4e33-83c8-e4e624224426"
      },
      "execution_count": null,
      "outputs": [
        {
          "output_type": "stream",
          "name": "stdout",
          "text": [
            "25\n",
            "30\n",
            "Underweight\n"
          ]
        }
      ]
    },
    {
      "cell_type": "code",
      "source": [],
      "metadata": {
        "id": "7xTuXkH1JbRu"
      },
      "execution_count": null,
      "outputs": []
    }
  ]
}